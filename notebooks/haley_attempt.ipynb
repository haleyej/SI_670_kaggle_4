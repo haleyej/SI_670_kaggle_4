{
 "cells": [
  {
   "cell_type": "markdown",
   "id": "b7ef80ac-4a8d-4f2d-afc4-ce81ea418d76",
   "metadata": {},
   "source": [
    "<h1>SI 670 Kaggle Competition 4</h1>\n",
    "\n",
    "Team GSIs"
   ]
  },
  {
   "cell_type": "code",
   "execution_count": 54,
   "id": "088f9093-fe22-4155-a70c-1543fa487677",
   "metadata": {},
   "outputs": [],
   "source": [
    "import os\n",
    "import matplotlib.pyplot as plt\n",
    "import seaborn as sns\n",
    "import numpy as np \n",
    "\n",
    "from sklearn.model_selection import train_test_split\n",
    "from sklearn.metrics import confusion_matrix\n",
    "\n",
    "import tensorflow as tf\n",
    "from tensorflow.keras import Model, Sequential, layers\n",
    "from tensorflow.keras.losses import BinaryCrossentropy, SparseCategoricalCrossentropy\n",
    "from tensorflow.keras.callbacks import EarlyStopping"
   ]
  },
  {
   "cell_type": "markdown",
   "id": "450a52ec-d369-4b0d-8406-a98220a411be",
   "metadata": {},
   "source": [
    "<h2>Load datasets</h2>"
   ]
  },
  {
   "cell_type": "code",
   "execution_count": 2,
   "id": "63b91ad4-a847-4852-be5b-5c768e63b8cc",
   "metadata": {},
   "outputs": [
    {
     "data": {
      "text/plain": [
       "(301, 315)"
      ]
     },
     "execution_count": 2,
     "metadata": {},
     "output_type": "execute_result"
    }
   ],
   "source": [
    "len(list(os.listdir(\"../data/images_train/bathroom\"))), len(list(os.listdir(\"../data/images_train/kitchen\")))"
   ]
  },
  {
   "cell_type": "code",
   "execution_count": 3,
   "id": "90093f52-769c-4cc7-879b-c4248c50de77",
   "metadata": {},
   "outputs": [
    {
     "name": "stdout",
     "output_type": "stream",
     "text": [
      "Found 616 files belonging to 2 classes.\n"
     ]
    }
   ],
   "source": [
    "data = tf.keras.utils.image_dataset_from_directory(\"../data/images_train\", image_size = (256, 256))"
   ]
  },
  {
   "cell_type": "code",
   "execution_count": 4,
   "id": "8b4b243e-3626-4636-a830-15f0a931a5f6",
   "metadata": {},
   "outputs": [],
   "source": [
    "X, y = zip(*data)\n",
    "\n",
    "X = np.concatenate(X)\n",
    "y = np.concatenate(y)"
   ]
  },
  {
   "cell_type": "code",
   "execution_count": 5,
   "id": "bf65d056-ef58-4004-80cb-3f73cd953272",
   "metadata": {},
   "outputs": [
    {
     "data": {
      "text/plain": [
       "(616, 616)"
      ]
     },
     "execution_count": 5,
     "metadata": {},
     "output_type": "execute_result"
    }
   ],
   "source": [
    "len(X), len(y)"
   ]
  },
  {
   "cell_type": "markdown",
   "id": "4080dc3b-8ee8-4961-bc09-d6fdcbf8c4b7",
   "metadata": {},
   "source": [
    "<h2>Preprocess Images</h2>"
   ]
  },
  {
   "cell_type": "code",
   "execution_count": 6,
   "id": "470da20d-4921-4abd-8457-d75576f81628",
   "metadata": {},
   "outputs": [],
   "source": [
    "X = np.apply_along_axis(lambda s: s / 255.0, axis = 1, arr = X)"
   ]
  },
  {
   "cell_type": "markdown",
   "id": "4c7faac6-4f4b-4b5c-9f6c-fdb00999babc",
   "metadata": {},
   "source": [
    "<h2>Split</h2>"
   ]
  },
  {
   "cell_type": "code",
   "execution_count": 28,
   "id": "e6a44357-4b90-4367-93dd-8d12be11269d",
   "metadata": {},
   "outputs": [],
   "source": [
    "X_train, X_test, y_train, y_test = train_test_split(X, y, random_state = 42, test_size = 0.2)\n",
    "X_train, X_val, y_train, y_val = train_test_split(X_train, y_train, random_state = 42, test_size = 0.2)"
   ]
  },
  {
   "cell_type": "markdown",
   "id": "4497b45e-1ddd-4dc9-890e-64bef9f593ab",
   "metadata": {},
   "source": [
    "<h2>Train Model</h2>"
   ]
  },
  {
   "cell_type": "code",
   "execution_count": 80,
   "id": "c240e6cb-138a-4519-8c67-03ee21240970",
   "metadata": {},
   "outputs": [],
   "source": [
    "model = Sequential([\n",
    "    tf.keras.layers.Conv2D(256, (5, 5), activation = 'relu', input_shape = (256, 256, 3)), \n",
    "    #tf.keras.layers.MaxPooling2D((2, 2)), \n",
    "    tf.keras.layers.Conv2D(128, (5, 5), activation = 'relu'), \n",
    "    tf.keras.layers.MaxPooling2D((2, 2)), \n",
    "    tf.keras.layers.Conv2D(128, (5, 5), activation = 'relu'), \n",
    "    tf.keras.layers.MaxPooling2D((2, 2)),\n",
    "    tf.keras.layers.Conv2D(64, (5, 5), activation = 'relu'), \n",
    "    tf.keras.layers.Dropout(0.1),\n",
    "    tf.keras.layers.MaxPooling2D((2, 2)),\n",
    "    tf.keras.layers.Flatten(), \n",
    "    tf.keras.layers.Dense(64, activation = 'relu'), \n",
    "    tf.keras.layers.Dense(1, activation = 'softmax')\n",
    "])"
   ]
  },
  {
   "cell_type": "code",
   "execution_count": 81,
   "id": "223d99ac-1d88-494d-9211-91b0847cb7b3",
   "metadata": {},
   "outputs": [],
   "source": [
    "loss = BinaryCrossentropy()\n",
    "model.compile(optimizer = 'adam', loss = loss, metrics = ['accuracy'])"
   ]
  },
  {
   "cell_type": "code",
   "execution_count": null,
   "id": "dd3ea234-de15-4f1b-aafc-734931c3c30e",
   "metadata": {},
   "outputs": [
    {
     "name": "stdout",
     "output_type": "stream",
     "text": [
      "Epoch 1/50\n",
      "4/4 [==============================] - 174s 47s/step - loss: 2.3748 - accuracy: 0.4531 - val_loss: 0.6919 - val_accuracy: 0.5657\n",
      "Epoch 2/50\n",
      "4/4 [==============================] - 181s 50s/step - loss: 0.7086 - accuracy: 0.4531 - val_loss: 0.6957 - val_accuracy: 0.5657\n",
      "Epoch 3/50\n",
      "4/4 [==============================] - 176s 49s/step - loss: 0.6849 - accuracy: 0.4531 - val_loss: 0.7132 - val_accuracy: 0.5657\n",
      "Epoch 4/50\n"
     ]
    }
   ],
   "source": [
    "early_stopping = EarlyStopping(monitor = 'val_loss', min_delta = 0.01, patience = 3)\n",
    "\n",
    "model_history = model.fit(X_train[:64], y_train[:64], epochs = 50, batch_size = 16, \n",
    "                          callbacks = [early_stopping], \n",
    "                          validation_data = (X_val, y_val))"
   ]
  },
  {
   "cell_type": "code",
   "execution_count": 66,
   "id": "8d8a67a8-49bb-45f7-b6ed-edf19df5c0c5",
   "metadata": {},
   "outputs": [
    {
     "data": {
      "text/plain": [
       "393"
      ]
     },
     "execution_count": 66,
     "metadata": {},
     "output_type": "execute_result"
    }
   ],
   "source": [
    "len(X_train)"
   ]
  },
  {
   "cell_type": "markdown",
   "id": "c69ed2e7-300b-43c9-a446-7c8ee75bba20",
   "metadata": {},
   "source": [
    "<h2>Test Model</h2>"
   ]
  },
  {
   "cell_type": "code",
   "execution_count": 67,
   "id": "b7807159-33c3-4ab0-8d8d-dc0951246377",
   "metadata": {},
   "outputs": [
    {
     "name": "stdout",
     "output_type": "stream",
     "text": [
      "4/4 [==============================] - 68s 16s/step - loss: 0.6931 - accuracy: 0.5161\n"
     ]
    },
    {
     "data": {
      "text/plain": [
       "[0.6931341886520386, 0.5161290168762207]"
      ]
     },
     "execution_count": 67,
     "metadata": {},
     "output_type": "execute_result"
    }
   ],
   "source": [
    "model.evaluate(X_test, y_test)"
   ]
  },
  {
   "cell_type": "code",
   "execution_count": 68,
   "id": "a77c02ba-61b5-4828-9261-6e36cb63accb",
   "metadata": {},
   "outputs": [
    {
     "name": "stdout",
     "output_type": "stream",
     "text": [
      "4/4 [==============================] - 56s 12s/step - loss: 0.6932 - accuracy: 0.4343\n"
     ]
    },
    {
     "data": {
      "text/plain": [
       "[0.6932007670402527, 0.4343434274196625]"
      ]
     },
     "execution_count": 68,
     "metadata": {},
     "output_type": "execute_result"
    }
   ],
   "source": [
    "model.evaluate(X_val, y_val)"
   ]
  },
  {
   "cell_type": "code",
   "execution_count": 69,
   "id": "c293bfd1-7d73-4246-ad23-a0bd3bd11981",
   "metadata": {},
   "outputs": [
    {
     "name": "stdout",
     "output_type": "stream",
     "text": [
      "4/4 [==============================] - 75s 18s/step\n"
     ]
    }
   ],
   "source": [
    "pred = model.predict(X_test)"
   ]
  },
  {
   "cell_type": "code",
   "execution_count": 70,
   "id": "de147794-e521-4af6-8070-5993cb94da19",
   "metadata": {},
   "outputs": [
    {
     "data": {
      "text/plain": [
       "array([0, 1, 1, 0, 1, 1, 0, 1, 1, 1, 0, 1, 0, 1, 1, 0, 1, 1, 1, 1, 0, 1,\n",
       "       0, 1, 1, 0, 0, 1, 1, 1, 1, 0, 1, 1, 1, 1, 0, 1, 1, 1, 0, 0, 1, 1,\n",
       "       0, 1, 0, 1, 1, 0, 1, 0, 0, 0, 0, 0, 0, 0, 1, 0, 1, 1, 0, 0, 0, 1,\n",
       "       0, 1, 1, 0, 0, 1, 1, 1, 0, 1, 0, 0, 1, 0, 0, 0, 1, 0, 0, 1, 0, 0,\n",
       "       1, 1, 1, 1, 1, 1, 0, 1, 1, 1, 0], dtype=int32)"
      ]
     },
     "execution_count": 70,
     "metadata": {},
     "output_type": "execute_result"
    }
   ],
   "source": [
    "y_val"
   ]
  },
  {
   "cell_type": "code",
   "execution_count": 71,
   "id": "88b9b87e-50ec-433f-a3f8-59b4b3798f4d",
   "metadata": {},
   "outputs": [
    {
     "data": {
      "text/plain": [
       "array([[0.4997962],\n",
       "       [0.4997962],\n",
       "       [0.4997962],\n",
       "       [0.4997962],\n",
       "       [0.4997962],\n",
       "       [0.4997962],\n",
       "       [0.4997962],\n",
       "       [0.4997962],\n",
       "       [0.4997962],\n",
       "       [0.4997962],\n",
       "       [0.4997962],\n",
       "       [0.4997962],\n",
       "       [0.4997962],\n",
       "       [0.4997962],\n",
       "       [0.4997962],\n",
       "       [0.4997962],\n",
       "       [0.4997962],\n",
       "       [0.4997962],\n",
       "       [0.4997962],\n",
       "       [0.4997962],\n",
       "       [0.4997962],\n",
       "       [0.4997962],\n",
       "       [0.4997962],\n",
       "       [0.4997962],\n",
       "       [0.4997962],\n",
       "       [0.4997962],\n",
       "       [0.4997962],\n",
       "       [0.4997962],\n",
       "       [0.4997962],\n",
       "       [0.4997962],\n",
       "       [0.4997962],\n",
       "       [0.4997962],\n",
       "       [0.4997962],\n",
       "       [0.4997962],\n",
       "       [0.4997962],\n",
       "       [0.4997962],\n",
       "       [0.4997962],\n",
       "       [0.4997962],\n",
       "       [0.4997962],\n",
       "       [0.4997962],\n",
       "       [0.4997962],\n",
       "       [0.4997962],\n",
       "       [0.4997962],\n",
       "       [0.4997962],\n",
       "       [0.4997962],\n",
       "       [0.4997962],\n",
       "       [0.4997962],\n",
       "       [0.4997962],\n",
       "       [0.4997962],\n",
       "       [0.4997962],\n",
       "       [0.4997962],\n",
       "       [0.4997962],\n",
       "       [0.4997962],\n",
       "       [0.4997962],\n",
       "       [0.4997962],\n",
       "       [0.4997962],\n",
       "       [0.4997962],\n",
       "       [0.4997962],\n",
       "       [0.4997962],\n",
       "       [0.4997962],\n",
       "       [0.4997962],\n",
       "       [0.4997962],\n",
       "       [0.4997962],\n",
       "       [0.4997962],\n",
       "       [0.4997962],\n",
       "       [0.4997962],\n",
       "       [0.4997962],\n",
       "       [0.4997962],\n",
       "       [0.4997962],\n",
       "       [0.4997962],\n",
       "       [0.4997962],\n",
       "       [0.4997962],\n",
       "       [0.4997962],\n",
       "       [0.4997962],\n",
       "       [0.4997962],\n",
       "       [0.4997962],\n",
       "       [0.4997962],\n",
       "       [0.4997962],\n",
       "       [0.4997962],\n",
       "       [0.4997962],\n",
       "       [0.4997962],\n",
       "       [0.4997962],\n",
       "       [0.4997962],\n",
       "       [0.4997962],\n",
       "       [0.4997962],\n",
       "       [0.4997962],\n",
       "       [0.4997962],\n",
       "       [0.4997962],\n",
       "       [0.4997962],\n",
       "       [0.4997962],\n",
       "       [0.4997962],\n",
       "       [0.4997962],\n",
       "       [0.4997962],\n",
       "       [0.4997962],\n",
       "       [0.4997962],\n",
       "       [0.4997962],\n",
       "       [0.4997962],\n",
       "       [0.4997962],\n",
       "       [0.4997962],\n",
       "       [0.4997962],\n",
       "       [0.4997962],\n",
       "       [0.4997962],\n",
       "       [0.4997962],\n",
       "       [0.4997962],\n",
       "       [0.4997962],\n",
       "       [0.4997962],\n",
       "       [0.4997962],\n",
       "       [0.4997962],\n",
       "       [0.4997962],\n",
       "       [0.4997962],\n",
       "       [0.4997962],\n",
       "       [0.4997962],\n",
       "       [0.4997962],\n",
       "       [0.4997962],\n",
       "       [0.4997962],\n",
       "       [0.4997962],\n",
       "       [0.4997962],\n",
       "       [0.4997962],\n",
       "       [0.4997962],\n",
       "       [0.4997962],\n",
       "       [0.4997962],\n",
       "       [0.4997962],\n",
       "       [0.4997962],\n",
       "       [0.4997962]], dtype=float32)"
      ]
     },
     "execution_count": 71,
     "metadata": {},
     "output_type": "execute_result"
    }
   ],
   "source": [
    "pred"
   ]
  },
  {
   "cell_type": "code",
   "execution_count": 55,
   "id": "e591f02a-4dcf-4efe-bc97-7501ebe32944",
   "metadata": {},
   "outputs": [
    {
     "ename": "ValueError",
     "evalue": "Classification metrics can't handle a mix of continuous and binary targets",
     "output_type": "error",
     "traceback": [
      "\u001b[0;31m---------------------------------------------------------------------------\u001b[0m",
      "\u001b[0;31mValueError\u001b[0m                                Traceback (most recent call last)",
      "Cell \u001b[0;32mIn[55], line 1\u001b[0m\n\u001b[0;32m----> 1\u001b[0m \u001b[43mconfusion_matrix\u001b[49m\u001b[43m(\u001b[49m\u001b[43mpred\u001b[49m\u001b[43m,\u001b[49m\u001b[43m \u001b[49m\u001b[43my_test\u001b[49m\u001b[43m)\u001b[49m\n",
      "File \u001b[0;32m~/miniconda3/lib/python3.11/site-packages/sklearn/utils/_param_validation.py:211\u001b[0m, in \u001b[0;36mvalidate_params.<locals>.decorator.<locals>.wrapper\u001b[0;34m(*args, **kwargs)\u001b[0m\n\u001b[1;32m    205\u001b[0m \u001b[38;5;28;01mtry\u001b[39;00m:\n\u001b[1;32m    206\u001b[0m     \u001b[38;5;28;01mwith\u001b[39;00m config_context(\n\u001b[1;32m    207\u001b[0m         skip_parameter_validation\u001b[38;5;241m=\u001b[39m(\n\u001b[1;32m    208\u001b[0m             prefer_skip_nested_validation \u001b[38;5;129;01mor\u001b[39;00m global_skip_validation\n\u001b[1;32m    209\u001b[0m         )\n\u001b[1;32m    210\u001b[0m     ):\n\u001b[0;32m--> 211\u001b[0m         \u001b[38;5;28;01mreturn\u001b[39;00m \u001b[43mfunc\u001b[49m\u001b[43m(\u001b[49m\u001b[38;5;241;43m*\u001b[39;49m\u001b[43margs\u001b[49m\u001b[43m,\u001b[49m\u001b[43m \u001b[49m\u001b[38;5;241;43m*\u001b[39;49m\u001b[38;5;241;43m*\u001b[39;49m\u001b[43mkwargs\u001b[49m\u001b[43m)\u001b[49m\n\u001b[1;32m    212\u001b[0m \u001b[38;5;28;01mexcept\u001b[39;00m InvalidParameterError \u001b[38;5;28;01mas\u001b[39;00m e:\n\u001b[1;32m    213\u001b[0m     \u001b[38;5;66;03m# When the function is just a wrapper around an estimator, we allow\u001b[39;00m\n\u001b[1;32m    214\u001b[0m     \u001b[38;5;66;03m# the function to delegate validation to the estimator, but we replace\u001b[39;00m\n\u001b[1;32m    215\u001b[0m     \u001b[38;5;66;03m# the name of the estimator by the name of the function in the error\u001b[39;00m\n\u001b[1;32m    216\u001b[0m     \u001b[38;5;66;03m# message to avoid confusion.\u001b[39;00m\n\u001b[1;32m    217\u001b[0m     msg \u001b[38;5;241m=\u001b[39m re\u001b[38;5;241m.\u001b[39msub(\n\u001b[1;32m    218\u001b[0m         \u001b[38;5;124mr\u001b[39m\u001b[38;5;124m\"\u001b[39m\u001b[38;5;124mparameter of \u001b[39m\u001b[38;5;124m\\\u001b[39m\u001b[38;5;124mw+ must be\u001b[39m\u001b[38;5;124m\"\u001b[39m,\n\u001b[1;32m    219\u001b[0m         \u001b[38;5;124mf\u001b[39m\u001b[38;5;124m\"\u001b[39m\u001b[38;5;124mparameter of \u001b[39m\u001b[38;5;132;01m{\u001b[39;00mfunc\u001b[38;5;241m.\u001b[39m\u001b[38;5;18m__qualname__\u001b[39m\u001b[38;5;132;01m}\u001b[39;00m\u001b[38;5;124m must be\u001b[39m\u001b[38;5;124m\"\u001b[39m,\n\u001b[1;32m    220\u001b[0m         \u001b[38;5;28mstr\u001b[39m(e),\n\u001b[1;32m    221\u001b[0m     )\n",
      "File \u001b[0;32m~/miniconda3/lib/python3.11/site-packages/sklearn/metrics/_classification.py:326\u001b[0m, in \u001b[0;36mconfusion_matrix\u001b[0;34m(y_true, y_pred, labels, sample_weight, normalize)\u001b[0m\n\u001b[1;32m    231\u001b[0m \u001b[38;5;129m@validate_params\u001b[39m(\n\u001b[1;32m    232\u001b[0m     {\n\u001b[1;32m    233\u001b[0m         \u001b[38;5;124m\"\u001b[39m\u001b[38;5;124my_true\u001b[39m\u001b[38;5;124m\"\u001b[39m: [\u001b[38;5;124m\"\u001b[39m\u001b[38;5;124marray-like\u001b[39m\u001b[38;5;124m\"\u001b[39m],\n\u001b[0;32m   (...)\u001b[0m\n\u001b[1;32m    242\u001b[0m     y_true, y_pred, \u001b[38;5;241m*\u001b[39m, labels\u001b[38;5;241m=\u001b[39m\u001b[38;5;28;01mNone\u001b[39;00m, sample_weight\u001b[38;5;241m=\u001b[39m\u001b[38;5;28;01mNone\u001b[39;00m, normalize\u001b[38;5;241m=\u001b[39m\u001b[38;5;28;01mNone\u001b[39;00m\n\u001b[1;32m    243\u001b[0m ):\n\u001b[1;32m    244\u001b[0m \u001b[38;5;250m    \u001b[39m\u001b[38;5;124;03m\"\"\"Compute confusion matrix to evaluate the accuracy of a classification.\u001b[39;00m\n\u001b[1;32m    245\u001b[0m \n\u001b[1;32m    246\u001b[0m \u001b[38;5;124;03m    By definition a confusion matrix :math:`C` is such that :math:`C_{i, j}`\u001b[39;00m\n\u001b[0;32m   (...)\u001b[0m\n\u001b[1;32m    324\u001b[0m \u001b[38;5;124;03m    (0, 2, 1, 1)\u001b[39;00m\n\u001b[1;32m    325\u001b[0m \u001b[38;5;124;03m    \"\"\"\u001b[39;00m\n\u001b[0;32m--> 326\u001b[0m     y_type, y_true, y_pred \u001b[38;5;241m=\u001b[39m \u001b[43m_check_targets\u001b[49m\u001b[43m(\u001b[49m\u001b[43my_true\u001b[49m\u001b[43m,\u001b[49m\u001b[43m \u001b[49m\u001b[43my_pred\u001b[49m\u001b[43m)\u001b[49m\n\u001b[1;32m    327\u001b[0m     \u001b[38;5;28;01mif\u001b[39;00m y_type \u001b[38;5;129;01mnot\u001b[39;00m \u001b[38;5;129;01min\u001b[39;00m (\u001b[38;5;124m\"\u001b[39m\u001b[38;5;124mbinary\u001b[39m\u001b[38;5;124m\"\u001b[39m, \u001b[38;5;124m\"\u001b[39m\u001b[38;5;124mmulticlass\u001b[39m\u001b[38;5;124m\"\u001b[39m):\n\u001b[1;32m    328\u001b[0m         \u001b[38;5;28;01mraise\u001b[39;00m \u001b[38;5;167;01mValueError\u001b[39;00m(\u001b[38;5;124m\"\u001b[39m\u001b[38;5;132;01m%s\u001b[39;00m\u001b[38;5;124m is not supported\u001b[39m\u001b[38;5;124m\"\u001b[39m \u001b[38;5;241m%\u001b[39m y_type)\n",
      "File \u001b[0;32m~/miniconda3/lib/python3.11/site-packages/sklearn/metrics/_classification.py:93\u001b[0m, in \u001b[0;36m_check_targets\u001b[0;34m(y_true, y_pred)\u001b[0m\n\u001b[1;32m     90\u001b[0m     y_type \u001b[38;5;241m=\u001b[39m {\u001b[38;5;124m\"\u001b[39m\u001b[38;5;124mmulticlass\u001b[39m\u001b[38;5;124m\"\u001b[39m}\n\u001b[1;32m     92\u001b[0m \u001b[38;5;28;01mif\u001b[39;00m \u001b[38;5;28mlen\u001b[39m(y_type) \u001b[38;5;241m>\u001b[39m \u001b[38;5;241m1\u001b[39m:\n\u001b[0;32m---> 93\u001b[0m     \u001b[38;5;28;01mraise\u001b[39;00m \u001b[38;5;167;01mValueError\u001b[39;00m(\n\u001b[1;32m     94\u001b[0m         \u001b[38;5;124m\"\u001b[39m\u001b[38;5;124mClassification metrics can\u001b[39m\u001b[38;5;124m'\u001b[39m\u001b[38;5;124mt handle a mix of \u001b[39m\u001b[38;5;132;01m{0}\u001b[39;00m\u001b[38;5;124m and \u001b[39m\u001b[38;5;132;01m{1}\u001b[39;00m\u001b[38;5;124m targets\u001b[39m\u001b[38;5;124m\"\u001b[39m\u001b[38;5;241m.\u001b[39mformat(\n\u001b[1;32m     95\u001b[0m             type_true, type_pred\n\u001b[1;32m     96\u001b[0m         )\n\u001b[1;32m     97\u001b[0m     )\n\u001b[1;32m     99\u001b[0m \u001b[38;5;66;03m# We can't have more than one value on y_type => The set is no more needed\u001b[39;00m\n\u001b[1;32m    100\u001b[0m y_type \u001b[38;5;241m=\u001b[39m y_type\u001b[38;5;241m.\u001b[39mpop()\n",
      "\u001b[0;31mValueError\u001b[0m: Classification metrics can't handle a mix of continuous and binary targets"
     ]
    }
   ],
   "source": [
    "confusion_matrix(pred, y_test)"
   ]
  },
  {
   "cell_type": "code",
   "execution_count": null,
   "id": "8e3b4657-6a81-40fd-a6e1-6e4094cf13c9",
   "metadata": {},
   "outputs": [],
   "source": []
  }
 ],
 "metadata": {
  "kernelspec": {
   "display_name": "Python 3 (ipykernel)",
   "language": "python",
   "name": "python3"
  },
  "language_info": {
   "codemirror_mode": {
    "name": "ipython",
    "version": 3
   },
   "file_extension": ".py",
   "mimetype": "text/x-python",
   "name": "python",
   "nbconvert_exporter": "python",
   "pygments_lexer": "ipython3",
   "version": "3.11.6"
  }
 },
 "nbformat": 4,
 "nbformat_minor": 5
}
