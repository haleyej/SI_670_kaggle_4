{
 "cells": [
  {
   "cell_type": "markdown",
   "id": "b7ef80ac-4a8d-4f2d-afc4-ce81ea418d76",
   "metadata": {},
   "source": [
    "<h1>SI 670 Kaggle Competition 4</h1>\n",
    "\n",
    "Team GSIs"
   ]
  },
  {
   "cell_type": "code",
   "execution_count": 398,
   "id": "088f9093-fe22-4155-a70c-1543fa487677",
   "metadata": {},
   "outputs": [],
   "source": [
    "import os\n",
    "import matplotlib.pyplot as plt\n",
    "import seaborn as sns\n",
    "import numpy as np \n",
    "import pandas as pd\n",
    "\n",
    "from sklearn.model_selection import train_test_split\n",
    "from sklearn.metrics import confusion_matrix\n",
    "\n",
    "import tensorflow as tf\n",
    "import tensorflow_datasets as tfds\n",
    "from tensorflow.keras import Model, Sequential, layers\n",
    "from tensorflow.keras.losses import BinaryCrossentropy, SparseCategoricalCrossentropy\n",
    "from tensorflow.keras.regularizers import l2\n",
    "from tensorflow.keras.callbacks import EarlyStopping\n",
    "from tensorflow.keras import Input "
   ]
  },
  {
   "cell_type": "code",
   "execution_count": 115,
   "id": "84b93afe-08f1-4ec7-9892-92ce151b815c",
   "metadata": {},
   "outputs": [
    {
     "data": {
      "text/plain": [
       "[]"
      ]
     },
     "execution_count": 115,
     "metadata": {},
     "output_type": "execute_result"
    }
   ],
   "source": [
    "tf.config.list_physical_devices('GPU')"
   ]
  },
  {
   "cell_type": "markdown",
   "id": "450a52ec-d369-4b0d-8406-a98220a411be",
   "metadata": {},
   "source": [
    "<h2>Load datasets</h2>"
   ]
  },
  {
   "cell_type": "code",
   "execution_count": 2,
   "id": "63b91ad4-a847-4852-be5b-5c768e63b8cc",
   "metadata": {},
   "outputs": [
    {
     "data": {
      "text/plain": [
       "(301, 315)"
      ]
     },
     "execution_count": 2,
     "metadata": {},
     "output_type": "execute_result"
    }
   ],
   "source": [
    "len(list(os.listdir(\"../data/images_train/bathroom\"))), len(list(os.listdir(\"../data/images_train/kitchen\")))"
   ]
  },
  {
   "cell_type": "code",
   "execution_count": 348,
   "id": "90093f52-769c-4cc7-879b-c4248c50de77",
   "metadata": {},
   "outputs": [
    {
     "name": "stdout",
     "output_type": "stream",
     "text": [
      "Found 616 files belonging to 2 classes.\n"
     ]
    }
   ],
   "source": [
    "data = tf.keras.utils.image_dataset_from_directory(\"../data/images_train\", \n",
    "                                                   image_size = (256, 256), \n",
    "                                                   class_names = ['bathroom', 'kitchen'], \n",
    "                                                   shuffle = True,\n",
    "                                                   batch_size = 32)"
   ]
  },
  {
   "cell_type": "code",
   "execution_count": 349,
   "id": "8b4b243e-3626-4636-a830-15f0a931a5f6",
   "metadata": {},
   "outputs": [],
   "source": [
    "X, y = zip(*data)\n",
    "\n",
    "X = np.concatenate(X)\n",
    "y = np.concatenate(y)"
   ]
  },
  {
   "cell_type": "code",
   "execution_count": 350,
   "id": "bf65d056-ef58-4004-80cb-3f73cd953272",
   "metadata": {},
   "outputs": [
    {
     "data": {
      "text/plain": [
       "(616, 616)"
      ]
     },
     "execution_count": 350,
     "metadata": {},
     "output_type": "execute_result"
    }
   ],
   "source": [
    "len(X), len(y)"
   ]
  },
  {
   "cell_type": "markdown",
   "id": "4080dc3b-8ee8-4961-bc09-d6fdcbf8c4b7",
   "metadata": {},
   "source": [
    "<h2>Preprocess Images</h2>"
   ]
  },
  {
   "cell_type": "code",
   "execution_count": 351,
   "id": "e68b9ba6-92b7-4601-80a3-6d12974283b3",
   "metadata": {},
   "outputs": [],
   "source": [
    "#flip labels so bathroom is 1\n",
    "y = np.where(y == 1, 0, 1)"
   ]
  },
  {
   "cell_type": "code",
   "execution_count": 352,
   "id": "470da20d-4921-4abd-8457-d75576f81628",
   "metadata": {},
   "outputs": [],
   "source": [
    "X = np.apply_along_axis(lambda s: s / 255.0, axis = 1, arr = X)"
   ]
  },
  {
   "cell_type": "markdown",
   "id": "4c7faac6-4f4b-4b5c-9f6c-fdb00999babc",
   "metadata": {},
   "source": [
    "<h2>Split</h2>"
   ]
  },
  {
   "cell_type": "code",
   "execution_count": 354,
   "id": "e6a44357-4b90-4367-93dd-8d12be11269d",
   "metadata": {},
   "outputs": [],
   "source": [
    "X_train, X_test, y_train, y_test = train_test_split(X, y, random_state = 42, test_size = 0.2)\n",
    "X_train, X_val, y_train, y_val = train_test_split(X_train, y_train, random_state = 42, test_size = 0.2)"
   ]
  },
  {
   "cell_type": "markdown",
   "id": "4497b45e-1ddd-4dc9-890e-64bef9f593ab",
   "metadata": {},
   "source": [
    "<h2>Train Model</h2>"
   ]
  },
  {
   "cell_type": "code",
   "execution_count": 412,
   "id": "c240e6cb-138a-4519-8c67-03ee21240970",
   "metadata": {},
   "outputs": [],
   "source": [
    "model = Sequential([\n",
    "    # input\n",
    "    tf.keras.layers.Conv2D(64, (3, 3), kernel_regularizer = l2(0.0001), input_shape = (256, 256, 3)), \n",
    "    tf.keras.layers.BatchNormalization(axis = -1, epsilon = 2e-5),  \n",
    "    \n",
    "    tf.keras.layers.Conv2D(128, (3, 3), kernel_regularizer = l2(0.0001), activation = 'relu'), \n",
    "\n",
    "    \n",
    "    tf.keras.layers.MaxPooling2D((3, 3)),\n",
    "    tf.keras.layers.BatchNormalization(axis = -1, epsilon = 2e-5, input_shape = (256, 256, 3)), \n",
    "    tf.keras.layers.Conv2D(128, (3, 3), kernel_regularizer = l2(0.0001), activation = 'relu'), \n",
    "    tf.keras.layers.BatchNormalization(axis = -1, epsilon = 2e-5, input_shape = (256, 256, 3)), \n",
    "    tf.keras.layers.Conv2D(128, (3, 3), kernel_regularizer = l2(0.0001), activation = 'relu'), \n",
    "\n",
    "    \n",
    "    tf.keras.layers.Conv2D(256, (3, 3), activation = 'relu', input_shape = (256, 256, 3)), \n",
    "    tf.keras.layers.Conv2D(128, (3, 3), activation = 'relu'), \n",
    "    tf.keras.layers.MaxPooling2D((2, 2)),\n",
    "    tf.keras.layers.Conv2D(128, (3, 3), activation = 'relu'), \n",
    "    tf.keras.layers.Dropout(0.1),\n",
    "    tf.keras.layers.Conv2D(64, (3, 3), activation = 'relu'),\n",
    "    tf.keras.layers.MaxPooling2D((2, 2)),\n",
    "    tf.keras.layers.Conv2D(32, (3, 3), activation = 'relu'), \n",
    "    tf.keras.layers.Conv2D(32, (3, 3), activation = 'relu'), \n",
    "    tf.keras.layers.Dropout(0.1),\n",
    "    tf.keras.layers.MaxPooling2D((2, 2)),\n",
    "    tf.keras.layers.Flatten(), \n",
    "    tf.keras.layers.Dense(64), \n",
    "    tf.keras.layers.Dense(1, activation = 'sigmoid')\n",
    "])"
   ]
  },
  {
   "cell_type": "code",
   "execution_count": 413,
   "id": "223d99ac-1d88-494d-9211-91b0847cb7b3",
   "metadata": {},
   "outputs": [],
   "source": [
    "loss = BinaryCrossentropy()\n",
    "model.compile(optimizer = 'adam', loss = loss, metrics = ['accuracy'])"
   ]
  },
  {
   "cell_type": "code",
   "execution_count": 359,
   "id": "dd3ea234-de15-4f1b-aafc-734931c3c30e",
   "metadata": {
    "scrolled": true
   },
   "outputs": [
    {
     "name": "stdout",
     "output_type": "stream",
     "text": [
      "Epoch 1/50\n",
      "50/50 [==============================] - 273s 5s/step - loss: 0.6950 - accuracy: 0.5598 - val_loss: 0.7723 - val_accuracy: 0.4343\n",
      "Epoch 2/50\n",
      "50/50 [==============================] - 807s 16s/step - loss: 0.6894 - accuracy: 0.5903 - val_loss: 0.6309 - val_accuracy: 0.7879\n",
      "Epoch 3/50\n",
      "50/50 [==============================] - 1210s 25s/step - loss: 0.5244 - accuracy: 0.7684 - val_loss: 0.4368 - val_accuracy: 0.8182\n",
      "Epoch 4/50\n",
      "50/50 [==============================] - 288s 6s/step - loss: 0.4213 - accuracy: 0.8244 - val_loss: 0.3351 - val_accuracy: 0.8990\n",
      "Epoch 5/50\n",
      "50/50 [==============================] - 294s 6s/step - loss: 0.2687 - accuracy: 0.8830 - val_loss: 0.3626 - val_accuracy: 0.8384\n",
      "Epoch 6/50\n",
      "50/50 [==============================] - 278s 6s/step - loss: 0.2333 - accuracy: 0.9033 - val_loss: 0.2256 - val_accuracy: 0.9192\n",
      "Epoch 7/50\n",
      "50/50 [==============================] - 922s 19s/step - loss: 0.1696 - accuracy: 0.9313 - val_loss: 0.3040 - val_accuracy: 0.8788\n",
      "Epoch 8/50\n",
      "50/50 [==============================] - 2014s 41s/step - loss: 0.0925 - accuracy: 0.9593 - val_loss: 0.9224 - val_accuracy: 0.8182\n",
      "Epoch 9/50\n",
      "50/50 [==============================] - 3160s 64s/step - loss: 0.2433 - accuracy: 0.9160 - val_loss: 0.2999 - val_accuracy: 0.8788\n"
     ]
    }
   ],
   "source": [
    "early_stopping = EarlyStopping(monitor = 'val_loss', min_delta = 0.01, patience = 3, restore_best_weights = True)\n",
    "\n",
    "model_history = model.fit(X_train, y_train, epochs = 50, batch_size = 8, \n",
    "                          #callbacks = [early_stopping], \n",
    "                          validation_data = (X_val, y_val))"
   ]
  },
  {
   "cell_type": "code",
   "execution_count": 371,
   "id": "8d026a6d-0630-4bf3-bf4e-62a7064013b3",
   "metadata": {},
   "outputs": [
    {
     "name": "stdout",
     "output_type": "stream",
     "text": [
      "INFO:tensorflow:Assets written to: ../saved_weights/haley_submit_3/assets\n"
     ]
    },
    {
     "name": "stderr",
     "output_type": "stream",
     "text": [
      "INFO:tensorflow:Assets written to: ../saved_weights/haley_submit_3/assets\n"
     ]
    }
   ],
   "source": [
    "model.save(\"../saved_weights/haley_submit_3\")"
   ]
  },
  {
   "cell_type": "markdown",
   "id": "cdcd4d5c-c0bc-4b67-927a-4c018d46eb55",
   "metadata": {},
   "source": [
    "<h2>Resnet digression</h2>"
   ]
  },
  {
   "cell_type": "code",
   "execution_count": 417,
   "id": "d081449d-5878-4873-9ad2-48a9b1015667",
   "metadata": {},
   "outputs": [],
   "source": [
    "resnet = tf.keras.applications.resnet.ResNet101(input_shape = (256, 256, 3), include_top = False, \n",
    "                                                classifier_activation = 'softmax')"
   ]
  },
  {
   "cell_type": "code",
   "execution_count": 426,
   "id": "fcb9e7f0-7292-4eec-8e49-a27e608430e6",
   "metadata": {},
   "outputs": [],
   "source": [
    "x = resnet.output\n",
    "x = tf.keras.layers.GlobalAveragePooling2D()(x)\n",
    "x = tf.keras.layers.Dropout(0.2)(x)\n",
    "x = tf.keras.layers.Dense(64)(x)\n",
    "predictions = tf.keras.layers.Dense(1, activation = 'softmax')(x)\n",
    "\n",
    "model = Model(inputs = resnet.input, outputs = predictions)"
   ]
  },
  {
   "cell_type": "code",
   "execution_count": null,
   "id": "2b830878-4829-4185-852b-ac120b8a437f",
   "metadata": {},
   "outputs": [
    {
     "name": "stdout",
     "output_type": "stream",
     "text": [
      " 5/13 [==========>...................] - ETA: 1:40 - loss: 1.9245 - accuracy: 0.4437"
     ]
    }
   ],
   "source": [
    "model.compile(optimizer = 'adam', loss = loss, metrics = ['accuracy'])\n",
    "\n",
    "resnet_history = model.fit(X_train, y_train, validation_data = (X_val, y_val))"
   ]
  },
  {
   "cell_type": "markdown",
   "id": "c69ed2e7-300b-43c9-a446-7c8ee75bba20",
   "metadata": {},
   "source": [
    "<h2>Test Model</h2>"
   ]
  },
  {
   "cell_type": "code",
   "execution_count": 360,
   "id": "b7807159-33c3-4ab0-8d8d-dc0951246377",
   "metadata": {},
   "outputs": [
    {
     "name": "stdout",
     "output_type": "stream",
     "text": [
      "4/4 [==============================] - 26s 6s/step - loss: 0.3703 - accuracy: 0.8306\n"
     ]
    },
    {
     "data": {
      "text/plain": [
       "[0.3703078627586365, 0.8306451439857483]"
      ]
     },
     "execution_count": 360,
     "metadata": {},
     "output_type": "execute_result"
    }
   ],
   "source": [
    "model.evaluate(X_test, y_test)"
   ]
  },
  {
   "cell_type": "code",
   "execution_count": 361,
   "id": "a77c02ba-61b5-4828-9261-6e36cb63accb",
   "metadata": {},
   "outputs": [
    {
     "name": "stdout",
     "output_type": "stream",
     "text": [
      "4/4 [==============================] - 18s 4s/step - loss: 0.2256 - accuracy: 0.9192\n"
     ]
    },
    {
     "data": {
      "text/plain": [
       "[0.22562600672245026, 0.9191918969154358]"
      ]
     },
     "execution_count": 361,
     "metadata": {},
     "output_type": "execute_result"
    }
   ],
   "source": [
    "model.evaluate(X_val, y_val)"
   ]
  },
  {
   "cell_type": "code",
   "execution_count": 362,
   "id": "e57f4ff9-7cff-4a2c-8a69-59214eb8ae74",
   "metadata": {},
   "outputs": [
    {
     "name": "stdout",
     "output_type": "stream",
     "text": [
      "4/4 [==============================] - 25s 6s/step\n"
     ]
    }
   ],
   "source": [
    "y_pred_prob = model.predict(X_test)"
   ]
  },
  {
   "cell_type": "code",
   "execution_count": 363,
   "id": "49253b0f-a3d8-423c-9794-fc256c4bf53a",
   "metadata": {},
   "outputs": [],
   "source": [
    "y_pred_class = np.where(y_pred_prob > 0.5, 1, 0).flatten()"
   ]
  },
  {
   "cell_type": "code",
   "execution_count": 364,
   "id": "f522c23d-402d-4345-8a22-91a45536d286",
   "metadata": {},
   "outputs": [],
   "source": [
    "matrix = confusion_matrix(test_pred, y_test)"
   ]
  },
  {
   "cell_type": "code",
   "execution_count": 365,
   "id": "c964e70d-1c22-4081-944a-f383deee5383",
   "metadata": {},
   "outputs": [],
   "source": [
    "normalized_confusion_matrix = matrix / matrix.astype(float).sum(axis = 1)[:, np.newaxis]"
   ]
  },
  {
   "cell_type": "code",
   "execution_count": 366,
   "id": "ce7f63fc-d499-45c7-bdb5-36cadb964303",
   "metadata": {},
   "outputs": [
    {
     "data": {
      "image/png": "[encoded data removed]",
      "text/plain": [
       "<Figure size 640x480 with 2 Axes>"
      ]
     },
     "metadata": {},
     "output_type": "display_data"
    }
   ],
   "source": [
    "f = sns.heatmap(normalized_confusion_matrix, annot = True)\n",
    "f.set(title = 'Normalized Confusion Matrix', xlabel = 'True', ylabel = 'Predicted')\n",
    "plt.savefig(\"../plots/haley_heatmap_submission3.png\")"
   ]
  },
  {
   "cell_type": "markdown",
   "id": "1a01ac15-5a48-4417-9470-7511968c9a01",
   "metadata": {},
   "source": [
    "<h2>Make Prediction</h2>"
   ]
  },
  {
   "cell_type": "code",
   "execution_count": 367,
   "id": "c436c67e-efca-48f3-8ed5-df1d60fa583c",
   "metadata": {},
   "outputs": [
    {
     "name": "stdout",
     "output_type": "stream",
     "text": [
      "Found 149 files belonging to 1 classes.\n"
     ]
    }
   ],
   "source": [
    "pred_data = tf.keras.utils.image_dataset_from_directory(\"../data/images_test\", image_size = (256, 256), labels = None)\n",
    "pred_data = pred_data.unbatch()\n",
    "pred_images = [img / 255.0 for img in pred_data]"
   ]
  },
  {
   "cell_type": "code",
   "execution_count": 386,
   "id": "442ca622-c10b-4227-b0d0-6e5652c29305",
   "metadata": {},
   "outputs": [],
   "source": [
    "imgs = []\n",
    "ids = []\n",
    "\n",
    "for f in os.listdir(\"../data/images_test\"):\n",
    "    img = tf.keras.utils.load_img(os.path.join(\"../data/images_test\", f), target_size = (256, 256, 3))\n",
    "    img = tf.keras.utils.img_to_array(img) / 255.0\n",
    "    id = f.split(\".\")[0]\n",
    "    ids.append(id)\n",
    "    imgs.append(img)"
   ]
  },
  {
   "cell_type": "code",
   "execution_count": 388,
   "id": "080aff28-eb61-47be-92a0-ef1186486ccb",
   "metadata": {},
   "outputs": [
    {
     "name": "stdout",
     "output_type": "stream",
     "text": [
      "5/5 [==============================] - 28s 5s/step\n"
     ]
    }
   ],
   "source": [
    "predictions = model.predict(np.array(np.array(imgs)))"
   ]
  },
  {
   "cell_type": "markdown",
   "id": "bb89acdc-8aed-4ea3-9a29-f24336b018b0",
   "metadata": {},
   "source": [
    "<h2>Format predictions for submission</h2>"
   ]
  },
  {
   "cell_type": "code",
   "execution_count": 389,
   "id": "db64dd6f-b2ae-465c-b922-19b41beda982",
   "metadata": {},
   "outputs": [],
   "source": [
    "class_predictions = np.where(predictions > 0.5, 1, 0).flatten()"
   ]
  },
  {
   "cell_type": "code",
   "execution_count": 390,
   "id": "3885187a-e682-4f38-bd82-246156274289",
   "metadata": {},
   "outputs": [],
   "source": [
    "df = pd.DataFrame({'id': ids, 'class': class_predictions})"
   ]
  },
  {
   "cell_type": "code",
   "execution_count": 391,
   "id": "1b67e836-9599-42bd-ae7b-630e69d81074",
   "metadata": {},
   "outputs": [],
   "source": [
    "df.to_csv(\"../submissions/submit_3.csv\", index = None)"
   ]
  },
  {
   "cell_type": "code",
   "execution_count": 392,
   "id": "1e0e7f52-9d8c-4ee1-b5be-c6874a118fdf",
   "metadata": {},
   "outputs": [
    {
     "data": {
      "text/html": [
       "<div>\n",
       "<style scoped>\n",
       "    .dataframe tbody tr th:only-of-type {\n",
       "        vertical-align: middle;\n",
       "    }\n",
       "\n",
       "    .dataframe tbody tr th {\n",
       "        vertical-align: top;\n",
       "    }\n",
       "\n",
       "    .dataframe thead th {\n",
       "        text-align: right;\n",
       "    }\n",
       "</style>\n",
       "<table border=\"1\" class=\"dataframe\">\n",
       "  <thead>\n",
       "    <tr style=\"text-align: right;\">\n",
       "      <th></th>\n",
       "      <th>id</th>\n",
       "      <th>class</th>\n",
       "    </tr>\n",
       "  </thead>\n",
       "  <tbody>\n",
       "    <tr>\n",
       "      <th>0</th>\n",
       "      <td>162</td>\n",
       "      <td>0</td>\n",
       "    </tr>\n",
       "    <tr>\n",
       "      <th>1</th>\n",
       "      <td>228</td>\n",
       "      <td>0</td>\n",
       "    </tr>\n",
       "    <tr>\n",
       "      <th>2</th>\n",
       "      <td>214</td>\n",
       "      <td>0</td>\n",
       "    </tr>\n",
       "    <tr>\n",
       "      <th>3</th>\n",
       "      <td>200</td>\n",
       "      <td>0</td>\n",
       "    </tr>\n",
       "    <tr>\n",
       "      <th>4</th>\n",
       "      <td>201</td>\n",
       "      <td>1</td>\n",
       "    </tr>\n",
       "    <tr>\n",
       "      <th>...</th>\n",
       "      <td>...</td>\n",
       "      <td>...</td>\n",
       "    </tr>\n",
       "    <tr>\n",
       "      <th>144</th>\n",
       "      <td>219</td>\n",
       "      <td>1</td>\n",
       "    </tr>\n",
       "    <tr>\n",
       "      <th>145</th>\n",
       "      <td>225</td>\n",
       "      <td>0</td>\n",
       "    </tr>\n",
       "    <tr>\n",
       "      <th>146</th>\n",
       "      <td>231</td>\n",
       "      <td>1</td>\n",
       "    </tr>\n",
       "    <tr>\n",
       "      <th>147</th>\n",
       "      <td>153</td>\n",
       "      <td>0</td>\n",
       "    </tr>\n",
       "    <tr>\n",
       "      <th>148</th>\n",
       "      <td>147</td>\n",
       "      <td>0</td>\n",
       "    </tr>\n",
       "  </tbody>\n",
       "</table>\n",
       "<p>149 rows × 2 columns</p>\n",
       "</div>"
      ],
      "text/plain": [
       "      id  class\n",
       "0    162      0\n",
       "1    228      0\n",
       "2    214      0\n",
       "3    200      0\n",
       "4    201      1\n",
       "..   ...    ...\n",
       "144  219      1\n",
       "145  225      0\n",
       "146  231      1\n",
       "147  153      0\n",
       "148  147      0\n",
       "\n",
       "[149 rows x 2 columns]"
      ]
     },
     "execution_count": 392,
     "metadata": {},
     "output_type": "execute_result"
    }
   ],
   "source": [
    "df"
   ]
  },
  {
   "cell_type": "code",
   "execution_count": null,
   "id": "1c09cb07-0672-41e4-ac2b-1dd2f95b79ae",
   "metadata": {},
   "outputs": [],
   "source": []
  }
 ],
 "metadata": {
  "kernelspec": {
   "display_name": "Python 3 (ipykernel)",
   "language": "python",
   "name": "python3"
  },
  "language_info": {
   "codemirror_mode": {
    "name": "ipython",
    "version": 3
   },
   "file_extension": ".py",
   "mimetype": "text/x-python",
   "name": "python",
   "nbconvert_exporter": "python",
   "pygments_lexer": "ipython3",
   "version": "3.11.6"
  }
 },
 "nbformat": 4,
 "nbformat_minor": 5
}
