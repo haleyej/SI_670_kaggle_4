{
 "cells": [
  {
   "cell_type": "markdown",
   "id": "b7ef80ac-4a8d-4f2d-afc4-ce81ea418d76",
   "metadata": {},
   "source": [
    "<h1>SI 670 Kaggle Competition 4</h1>\n",
    "\n",
    "Team GSIs"
   ]
  },
  {
   "cell_type": "code",
   "execution_count": 1,
   "id": "088f9093-fe22-4155-a70c-1543fa487677",
   "metadata": {},
   "outputs": [],
   "source": [
    "import os\n",
    "import matplotlib.pyplot as plt\n",
    "import seaborn as sns\n",
    "import numpy as np \n",
    "import pandas as pd\n",
    "\n",
    "from sklearn.model_selection import train_test_split\n",
    "from sklearn.metrics import confusion_matrix\n",
    "\n",
    "import tensorflow as tf\n",
    "import tensorflow_datasets as tfds\n",
    "from tensorflow.keras import Model, Sequential, layers\n",
    "from tensorflow.keras.losses import BinaryCrossentropy, SparseCategoricalCrossentropy\n",
    "from tensorflow.keras.regularizers import l2\n",
    "from tensorflow.keras.callbacks import EarlyStopping\n",
    "from tensorflow.keras import Input "
   ]
  },
  {
   "cell_type": "code",
   "execution_count": 2,
   "id": "84b93afe-08f1-4ec7-9892-92ce151b815c",
   "metadata": {},
   "outputs": [
    {
     "data": {
      "text/plain": [
       "[PhysicalDevice(name='/physical_device:GPU:0', device_type='GPU')]"
      ]
     },
     "execution_count": 2,
     "metadata": {},
     "output_type": "execute_result"
    }
   ],
   "source": [
    "tf.config.list_physical_devices('GPU')"
   ]
  },
  {
   "cell_type": "markdown",
   "id": "450a52ec-d369-4b0d-8406-a98220a411be",
   "metadata": {},
   "source": [
    "<h2>Load datasets</h2>"
   ]
  },
  {
   "cell_type": "code",
   "execution_count": 3,
   "id": "63b91ad4-a847-4852-be5b-5c768e63b8cc",
   "metadata": {},
   "outputs": [
    {
     "data": {
      "text/plain": [
       "(301, 315)"
      ]
     },
     "execution_count": 3,
     "metadata": {},
     "output_type": "execute_result"
    }
   ],
   "source": [
    "len(list(os.listdir(\"../data/images_train/bathroom\"))), len(list(os.listdir(\"../data/images_train/kitchen\")))"
   ]
  },
  {
   "cell_type": "code",
   "execution_count": 4,
   "id": "90093f52-769c-4cc7-879b-c4248c50de77",
   "metadata": {},
   "outputs": [
    {
     "name": "stdout",
     "output_type": "stream",
     "text": [
      "Found 616 files belonging to 2 classes.\n"
     ]
    },
    {
     "name": "stderr",
     "output_type": "stream",
     "text": [
      "2023-11-18 21:18:02.421850: I metal_plugin/src/device/metal_device.cc:1154] Metal device set to: Apple M2\n",
      "2023-11-18 21:18:02.421879: I metal_plugin/src/device/metal_device.cc:296] systemMemory: 24.00 GB\n",
      "2023-11-18 21:18:02.421888: I metal_plugin/src/device/metal_device.cc:313] maxCacheSize: 8.00 GB\n",
      "2023-11-18 21:18:02.421927: I tensorflow/core/common_runtime/pluggable_device/pluggable_device_factory.cc:306] Could not identify NUMA node of platform GPU ID 0, defaulting to 0. Your kernel may not have been built with NUMA support.\n",
      "2023-11-18 21:18:02.421999: I tensorflow/core/common_runtime/pluggable_device/pluggable_device_factory.cc:272] Created TensorFlow device (/job:localhost/replica:0/task:0/device:GPU:0 with 0 MB memory) -> physical PluggableDevice (device: 0, name: METAL, pci bus id: <undefined>)\n"
     ]
    }
   ],
   "source": [
    "data = tf.keras.utils.image_dataset_from_directory(\"../data/images_train\", \n",
    "                                                   image_size = (256, 256), \n",
    "                                                   class_names = ['bathroom', 'kitchen'], \n",
    "                                                   shuffle = True,\n",
    "                                                   batch_size = 32)"
   ]
  },
  {
   "cell_type": "code",
   "execution_count": 5,
   "id": "8b4b243e-3626-4636-a830-15f0a931a5f6",
   "metadata": {},
   "outputs": [],
   "source": [
    "X, y = zip(*data)\n",
    "\n",
    "X = np.concatenate(X)\n",
    "y = np.concatenate(y)"
   ]
  },
  {
   "cell_type": "code",
   "execution_count": 6,
   "id": "bf65d056-ef58-4004-80cb-3f73cd953272",
   "metadata": {},
   "outputs": [
    {
     "data": {
      "text/plain": [
       "(616, 616)"
      ]
     },
     "execution_count": 6,
     "metadata": {},
     "output_type": "execute_result"
    }
   ],
   "source": [
    "len(X), len(y)"
   ]
  },
  {
   "cell_type": "markdown",
   "id": "4080dc3b-8ee8-4961-bc09-d6fdcbf8c4b7",
   "metadata": {},
   "source": [
    "<h2>Preprocess Images</h2>"
   ]
  },
  {
   "cell_type": "code",
   "execution_count": 7,
   "id": "e68b9ba6-92b7-4601-80a3-6d12974283b3",
   "metadata": {},
   "outputs": [],
   "source": [
    "#flip labels so bathroom is 1\n",
    "y = np.where(y == 1, 0, 1)"
   ]
  },
  {
   "cell_type": "code",
   "execution_count": 8,
   "id": "470da20d-4921-4abd-8457-d75576f81628",
   "metadata": {},
   "outputs": [],
   "source": [
    "X = np.apply_along_axis(lambda s: s / 255.0, axis = 1, arr = X)"
   ]
  },
  {
   "cell_type": "markdown",
   "id": "4c7faac6-4f4b-4b5c-9f6c-fdb00999babc",
   "metadata": {},
   "source": [
    "<h2>Split</h2>"
   ]
  },
  {
   "cell_type": "code",
   "execution_count": 9,
   "id": "e6a44357-4b90-4367-93dd-8d12be11269d",
   "metadata": {},
   "outputs": [],
   "source": [
    "X_train, X_test, y_train, y_test = train_test_split(X, y, random_state = 42, test_size = 0.2)\n",
    "X_train, X_val, y_train, y_val = train_test_split(X_train, y_train, random_state = 42, test_size = 0.2)"
   ]
  },
  {
   "cell_type": "markdown",
   "id": "4497b45e-1ddd-4dc9-890e-64bef9f593ab",
   "metadata": {},
   "source": [
    "<h2>Train Model</h2>"
   ]
  },
  {
   "cell_type": "code",
   "execution_count": 10,
   "id": "c240e6cb-138a-4519-8c67-03ee21240970",
   "metadata": {},
   "outputs": [],
   "source": [
    "model = Sequential([\n",
    "    # input\n",
    "    tf.keras.layers.Conv2D(64, (3, 3), kernel_regularizer = l2(0.01), input_shape = (256, 256, 3)), \n",
    "    tf.keras.layers.BatchNormalization(axis = -1, epsilon = 2e-5),  \n",
    "    tf.keras.layers.Conv2D(128, (3, 3), kernel_regularizer = l2(0.01), activation = 'relu'), \n",
    "    tf.keras.layers.Dropout(0.1),\n",
    "    tf.keras.layers.MaxPooling2D((3, 3)),\n",
    "    tf.keras.layers.BatchNormalization(axis = -1, epsilon = 2e-5, input_shape = (256, 256, 3)), \n",
    "    tf.keras.layers.Conv2D(128, (3, 3), kernel_regularizer = l2(0.01), activation = 'relu'), \n",
    "    tf.keras.layers.Dropout(0.1),\n",
    "    tf.keras.layers.BatchNormalization(axis = -1, epsilon = 2e-5, input_shape = (256, 256, 3)), \n",
    "    tf.keras.layers.Conv2D(128, (3, 3), kernel_regularizer = l2(0.01), activation = 'relu'), \n",
    "    tf.keras.layers.Conv2D(256, (3, 3), kernel_regularizer = l2(0.01), activation = 'relu'), \n",
    "    # tf.keras.layers.Conv2D(128, (3, 3), kernel_regularizer = l2(0.01), activation = 'relu'), \n",
    "    # tf.keras.layers.MaxPooling2D((2, 2)),\n",
    "    # tf.keras.layers.Conv2D(128, (3, 3), kernel_regularizer = l2(0.01), activation = 'relu'), \n",
    "    # tf.keras.layers.Dropout(0.1),\n",
    "    # tf.keras.layers.Conv2D(64, (3, 3), kernel_regularizer = l2(0.001), activation = 'relu'),\n",
    "    # tf.keras.layers.MaxPooling2D((2, 2)),\n",
    "    # tf.keras.layers.Conv2D(32, (3, 3), kernel_regularizer = l2(0.01), activation = 'relu'), \n",
    "    tf.keras.layers.Conv2D(32, (3, 3), kernel_regularizer = l2(0.01), activation = 'relu'), \n",
    "    tf.keras.layers.Dropout(0.1),\n",
    "    tf.keras.layers.MaxPooling2D((2, 2)),\n",
    "    tf.keras.layers.Flatten(), \n",
    "    tf.keras.layers.Dense(64), \n",
    "    tf.keras.layers.Dense(1, activation = 'sigmoid')\n",
    "])"
   ]
  },
  {
   "cell_type": "code",
   "execution_count": null,
   "id": "223d99ac-1d88-494d-9211-91b0847cb7b3",
   "metadata": {},
   "outputs": [],
   "source": [
    "loss = BinaryCrossentropy()\n",
    "model.compile(optimizer = 'adam', loss = loss, metrics = ['accuracy'])"
   ]
  },
  {
   "cell_type": "code",
   "execution_count": null,
   "id": "dd3ea234-de15-4f1b-aafc-734931c3c30e",
   "metadata": {},
   "outputs": [],
   "source": [
    "early_stopping = EarlyStopping(monitor = 'val_loss', min_delta = 0.005, patience = 3)\n",
    "\n",
    "model_history = model.fit(X_train, y_train, epochs = 50, batch_size = 8, \n",
    "                          callbacks = [early_stopping], \n",
    "                          validation_data = (X_val, y_val))"
   ]
  },
  {
   "cell_type": "code",
   "execution_count": null,
   "id": "8d026a6d-0630-4bf3-bf4e-62a7064013b3",
   "metadata": {},
   "outputs": [],
   "source": [
    "model.save(\"../saved_weights/haley_submit_6\")"
   ]
  },
  {
   "cell_type": "markdown",
   "id": "c69ed2e7-300b-43c9-a446-7c8ee75bba20",
   "metadata": {},
   "source": [
    "<h2>Test Model</h2>"
   ]
  },
  {
   "cell_type": "code",
   "execution_count": null,
   "id": "b7807159-33c3-4ab0-8d8d-dc0951246377",
   "metadata": {},
   "outputs": [],
   "source": [
    "model.evaluate(X_test, y_test)"
   ]
  },
  {
   "cell_type": "code",
   "execution_count": null,
   "id": "a77c02ba-61b5-4828-9261-6e36cb63accb",
   "metadata": {},
   "outputs": [],
   "source": [
    "model.evaluate(X_val, y_val)"
   ]
  },
  {
   "cell_type": "code",
   "execution_count": null,
   "id": "e57f4ff9-7cff-4a2c-8a69-59214eb8ae74",
   "metadata": {},
   "outputs": [],
   "source": [
    "y_pred_prob = model.predict(X_test)"
   ]
  },
  {
   "cell_type": "code",
   "execution_count": null,
   "id": "49253b0f-a3d8-423c-9794-fc256c4bf53a",
   "metadata": {},
   "outputs": [],
   "source": [
    "y_pred_class = np.where(y_pred_prob > 0.5, 1, 0).flatten()"
   ]
  },
  {
   "cell_type": "code",
   "execution_count": null,
   "id": "f522c23d-402d-4345-8a22-91a45536d286",
   "metadata": {},
   "outputs": [],
   "source": [
    "matrix = confusion_matrix(y_pred_class, y_test)"
   ]
  },
  {
   "cell_type": "code",
   "execution_count": null,
   "id": "c964e70d-1c22-4081-944a-f383deee5383",
   "metadata": {},
   "outputs": [],
   "source": [
    "normalized_confusion_matrix = matrix / matrix.astype(float).sum(axis = 1)[:, np.newaxis]"
   ]
  },
  {
   "cell_type": "code",
   "execution_count": null,
   "id": "ce7f63fc-d499-45c7-bdb5-36cadb964303",
   "metadata": {},
   "outputs": [],
   "source": [
    "f = sns.heatmap(normalized_confusion_matrix, annot = True)\n",
    "f.set(title = 'Normalized Confusion Matrix', xlabel = 'True', ylabel = 'Predicted')\n",
    "plt.savefig(\"../plots/haley_heatmap_submission6.png\")"
   ]
  },
  {
   "cell_type": "markdown",
   "id": "1a01ac15-5a48-4417-9470-7511968c9a01",
   "metadata": {},
   "source": [
    "<h2>Make Prediction</h2>"
   ]
  },
  {
   "cell_type": "code",
   "execution_count": null,
   "id": "c436c67e-efca-48f3-8ed5-df1d60fa583c",
   "metadata": {},
   "outputs": [],
   "source": [
    "pred_data = tf.keras.utils.image_dataset_from_directory(\"../data/images_test\", image_size = (256, 256), labels = None)\n",
    "pred_data = pred_data.unbatch()\n",
    "pred_images = [img / 255.0 for img in pred_data]"
   ]
  },
  {
   "cell_type": "code",
   "execution_count": null,
   "id": "442ca622-c10b-4227-b0d0-6e5652c29305",
   "metadata": {},
   "outputs": [],
   "source": [
    "imgs = []\n",
    "ids = []\n",
    "\n",
    "for f in os.listdir(\"../data/images_test\"):\n",
    "    img = tf.keras.utils.load_img(os.path.join(\"../data/images_test\", f), target_size = (256, 256, 3))\n",
    "    img = tf.keras.utils.img_to_array(img) / 255.0\n",
    "    id = f.split(\".\")[0]\n",
    "    ids.append(id)\n",
    "    imgs.append(img)"
   ]
  },
  {
   "cell_type": "code",
   "execution_count": null,
   "id": "080aff28-eb61-47be-92a0-ef1186486ccb",
   "metadata": {},
   "outputs": [],
   "source": [
    "predictions = model.predict(np.array(np.array(imgs)))"
   ]
  },
  {
   "cell_type": "markdown",
   "id": "bb89acdc-8aed-4ea3-9a29-f24336b018b0",
   "metadata": {},
   "source": [
    "<h2>Format predictions for submission</h2>"
   ]
  },
  {
   "cell_type": "code",
   "execution_count": null,
   "id": "db64dd6f-b2ae-465c-b922-19b41beda982",
   "metadata": {},
   "outputs": [],
   "source": [
    "class_predictions = np.where(predictions > 0.5, 1, 0).flatten()"
   ]
  },
  {
   "cell_type": "code",
   "execution_count": null,
   "id": "3885187a-e682-4f38-bd82-246156274289",
   "metadata": {},
   "outputs": [],
   "source": [
    "df = pd.DataFrame({'id': ids, 'class': class_predictions})"
   ]
  },
  {
   "cell_type": "code",
   "execution_count": null,
   "id": "1b67e836-9599-42bd-ae7b-630e69d81074",
   "metadata": {},
   "outputs": [],
   "source": [
    "df.to_csv(\"../submissions/submit_6.csv\", index = None)"
   ]
  },
  {
   "cell_type": "code",
   "execution_count": null,
   "id": "26b827dc-6e75-4659-bbcd-3886f3eaa6d3",
   "metadata": {},
   "outputs": [],
   "source": [
    "x = np.array([[3, 3, 3], [2, 2, 3], [1, 1, 1]])"
   ]
  },
  {
   "cell_type": "code",
   "execution_count": null,
   "id": "f0398760-9b9e-46a3-8a07-2d2536d6352a",
   "metadata": {},
   "outputs": [],
   "source": [
    "x"
   ]
  },
  {
   "cell_type": "code",
   "execution_count": null,
   "id": "61f641ab-d07e-4525-8346-664a57349e47",
   "metadata": {},
   "outputs": [],
   "source": []
  }
 ],
 "metadata": {
  "kernelspec": {
   "display_name": "Python 3 (ipykernel)",
   "language": "python",
   "name": "python3"
  },
  "language_info": {
   "codemirror_mode": {
    "name": "ipython",
    "version": 3
   },
   "file_extension": ".py",
   "mimetype": "text/x-python",
   "name": "python",
   "nbconvert_exporter": "python",
   "pygments_lexer": "ipython3",
   "version": "3.11.6"
  }
 },
 "nbformat": 4,
 "nbformat_minor": 5
}
